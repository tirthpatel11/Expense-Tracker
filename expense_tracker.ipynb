{
 "cells": [
  {
   "cell_type": "code",
   "execution_count": null,
   "id": "92d502f3",
   "metadata": {},
   "outputs": [],
   "source": [
    "import datetime\n",
    "\n",
    "def add_expense(expenses, date, amount, category):\n",
    "    if date not in expenses:\n",
    "        expenses[date] = []\n",
    "    expenses[date].append({\"amount\": amount, \"category\": category})\n",
    "    print(\"Expense Added successfully.\")\n",
    "\n",
    "def view_expenses(expenses):\n",
    "    if not expenses:\n",
    "        print(\"No expenses added.\")\n",
    "    else:\n",
    "        print(\"Expenses:\")\n",
    "        for date, items in expenses.items():\n",
    "            print(f\"\\nDate: {date}\")\n",
    "            for item in items:\n",
    "                print(f\"  - Amount: {item['amount']} Rs., Category: {item['category']}\")\n",
    "        print(\"\\nTotal Expenses:\")\n",
    "        for date, items in expenses.items():\n",
    "            total_amount = sum(item['amount'] for item in items)\n",
    "            print(f\"{date}: {total_amount} Rs.\")\n",
    "\n",
    "def main():\n",
    "    expenses = {}\n",
    "\n",
    "    while True:\n",
    "        print(\"\\nOptions:\")\n",
    "        print(\"1. Add Expense\")\n",
    "        print(\"2. View Expenses\")\n",
    "        print(\"3. Exit\")\n",
    "\n",
    "        choice = input(\"Enter your choice (1-3): \")\n",
    "\n",
    "        if choice == \"1\":\n",
    "            date_str = input(\"Enter the date (YYYY-MM-DD): \")\n",
    "            try:\n",
    "                date = datetime.datetime.strptime(date_str, \"%Y-%m-%d\").date()\n",
    "            except ValueError:\n",
    "                print(\"Invalid date format. Please use YYYY-MM-DD.\")\n",
    "                continue\n",
    "\n",
    "            amount = float(input(\"Enter the amount spent: \"))\n",
    "            category = input(\"Enter the category: \")\n",
    "\n",
    "            add_expense(expenses, date, amount, category)\n",
    "        elif choice == \"2\":\n",
    "            view_expenses(expenses)\n",
    "        elif choice == \"3\":\n",
    "            print(\"Exiting.\")\n",
    "            break\n",
    "        else:\n",
    "            print(\"Invalid choice. Please enter a number between 1 and 3.\")\n",
    "\n",
    "if __name__ == \"__main__\":\n",
    "    main()\n"
   ]
  }
 ],
 "metadata": {
  "kernelspec": {
   "display_name": "Python 3 (ipykernel)",
   "language": "python",
   "name": "python3"
  },
  "language_info": {
   "codemirror_mode": {
    "name": "ipython",
    "version": 3
   },
   "file_extension": ".py",
   "mimetype": "text/x-python",
   "name": "python",
   "nbconvert_exporter": "python",
   "pygments_lexer": "ipython3",
   "version": "3.9.13"
  }
 },
 "nbformat": 4,
 "nbformat_minor": 5
}
